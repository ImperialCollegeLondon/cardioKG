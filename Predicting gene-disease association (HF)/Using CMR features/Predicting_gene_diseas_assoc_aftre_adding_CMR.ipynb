{
 "cells": [
  {
   "cell_type": "code",
   "execution_count": 2,
   "id": "123a0511-f8ab-4859-92ca-58dd29d18ca8",
   "metadata": {},
   "outputs": [],
   "source": [
    "import torch\n",
    "import torch.nn as nn\n",
    "import torch.optim as optim\n",
    "from torch_geometric.data import Data, DataLoader\n",
    "import numpy as np\n",
    "from graphdatascience import GraphDataScience\n",
    "from py2neo import Graph\n",
    "from neo4j import GraphDatabase\n",
    "import networkx as nx\n",
    "import matplotlib.pyplot as plt\n",
    "import torch.nn.functional as F\n",
    "import pandas as pd\n",
    "import neo4jupyter\n",
    "from torch_geometric.nn import GCNConv\n",
    "from torch_geometric.utils import negative_sampling, remove_self_loops, add_self_loops, to_dense_adj, dense_to_sparse\n",
    "from torch_geometric.nn import VGAE,GAE\n",
    "from sklearn.metrics import precision_score, recall_score, f1_score, roc_auc_score, average_precision_score\n",
    "from torch_geometric.utils import to_dense_adj\n",
    "#neo4jupyter.init_notebook_mode()\n",
    "import tqdm as notebook_tqdm"
   ]
  },
  {
   "cell_type": "code",
   "execution_count": 3,
   "id": "20bfc798-5bb4-403e-90d7-0638cf3db57e",
   "metadata": {},
   "outputs": [],
   "source": [
    "import pickle\n",
    "# Load the list of arrays from the .pkl file\n",
    "with open('node_embeddings.pkl', 'rb') as pkl_file:\n",
    "    extracted_data = pickle.load(pkl_file)"
   ]
  },
  {
   "cell_type": "code",
   "execution_count": 4,
   "id": "226f6569-5006-42da-9679-71c3034f2779",
   "metadata": {},
   "outputs": [],
   "source": [
    "node_embeddings = extracted_data"
   ]
  },
  {
   "cell_type": "code",
   "execution_count": 5,
   "id": "8f434b7f-f90c-4135-a08a-50dbdbb686ab",
   "metadata": {},
   "outputs": [
    {
     "data": {
      "text/plain": [
       "33277"
      ]
     },
     "execution_count": 5,
     "metadata": {},
     "output_type": "execute_result"
    }
   ],
   "source": [
    "len(node_embeddings)"
   ]
  },
  {
   "cell_type": "code",
   "execution_count": 6,
   "id": "afc540fd-5372-42af-998d-aabdb80f8b3c",
   "metadata": {},
   "outputs": [],
   "source": [
    "diseases=pd.read_csv('Disease.csv')\n",
    "gene=pd.read_csv('Gene.csv')"
   ]
  },
  {
   "cell_type": "code",
   "execution_count": null,
   "id": "ae6163cc-3a0a-4bab-954c-7ace5e698f62",
   "metadata": {},
   "outputs": [],
   "source": []
  },
  {
   "cell_type": "code",
   "execution_count": 7,
   "id": "54c33e89-7d24-4f95-889c-2358582b05de",
   "metadata": {},
   "outputs": [],
   "source": [
    "diseases_nodes=list(diseases.fname)\n",
    "gene_nodes=list(gene.fname)"
   ]
  },
  {
   "cell_type": "code",
   "execution_count": null,
   "id": "c056f7fb-8b8b-4d2e-b144-2e7e58bbd89a",
   "metadata": {},
   "outputs": [],
   "source": []
  },
  {
   "cell_type": "code",
   "execution_count": 8,
   "id": "0dd58a0b-fdfc-4766-96a7-6ab7c4b940fa",
   "metadata": {},
   "outputs": [],
   "source": [
    "diseases_embeddings = {key:node_embeddings[key] for key in diseases_nodes if key in node_embeddings}\n",
    "gene_embeddings = {key:node_embeddings[key] for key in gene_nodes if key in node_embeddings}"
   ]
  },
  {
   "cell_type": "markdown",
   "id": "ffa87140-6cde-4b65-ab58-859667b69cd0",
   "metadata": {},
   "source": [
    "### Gene-disease asscociation prediction HF"
   ]
  },
  {
   "cell_type": "code",
   "execution_count": 9,
   "id": "173e7423-70c9-4708-b4ef-0785f7cbeb2c",
   "metadata": {},
   "outputs": [],
   "source": [
    "df_HF=pd.read_csv('HF_all_nodes.csv')\n",
    "All_Gene_nodes= pd.read_csv('Gene.csv')"
   ]
  },
  {
   "cell_type": "code",
   "execution_count": 10,
   "id": "303bf16a-67a1-451d-aa2d-f80705c7acf6",
   "metadata": {},
   "outputs": [],
   "source": [
    "list_all_gene = list(set(All_Gene_nodes.fname))"
   ]
  },
  {
   "cell_type": "code",
   "execution_count": null,
   "id": "232e0ac5-e372-4b11-ba61-94a5f5cce21d",
   "metadata": {},
   "outputs": [],
   "source": []
  },
  {
   "cell_type": "code",
   "execution_count": 4086,
   "id": "c2e3ef04-75d9-4cc7-aae5-b52f0b74955d",
   "metadata": {},
   "outputs": [],
   "source": [
    "HF_gene_pos = ['PIK3IP1', 'SERPINE1', 'IL6', 'FIBIN', 'EDNRA', 'KAT8', 'ADRA1D', 'PTH', 'ALOX15', 'SLC9A1', 'PTGS1', 'IFNG', 'CIDEA', 'UCP1',\n",
    " 'ATP2A1', 'NPPA', 'MYH6', 'TNFRSF1A', 'CYRIB', 'WDR45', 'APLN', 'NRG1', 'MS4A6A', 'NOS2', 'MSTN', 'SIRT1', 'PTPN3', 'VEGFA',\n",
    " 'ALB', 'PTP4A2', 'CXCL2', 'BAMBI', 'INS', 'APCS', 'EPN3', 'EDNRB', 'ATP2A2', 'RAC1', 'HSPB1', 'ACACA', 'CFD', 'POMC', 'PTGS2',\n",
    " 'ROCK2', 'NR3C2', 'GHRL', 'SOD1', 'PON1','AGTR1', 'PDPK1', 'PIK3CG', 'ADIPOQ', 'PLAT', 'EPHX2', 'ADRB3', 'HMOX1', 'PCK1', 'TNF', 'TRDN', 'FASN', 'CXCL8', 'NPPB',\n",
    " 'AVP', 'NUPR1', 'SFRP1', 'CSF2', 'HAND2', 'AGT', 'PDGFRA', 'TLR2', 'APOC1', 'FIP1L1', 'FXYD3', 'ITGB1', 'MYH7', 'HAMP', 'REN',\n",
    " 'HTR2B', 'PPP1R1A', 'PEBP1', 'CRP', 'NPR1', 'GCG', 'SOD3', 'CSF3', 'CCN2', 'COL4A1', 'RETN', 'PLXND1', 'PPARG', 'NRIP1', 'FBLN5',\n",
    " 'NOX4', 'COL6A1', 'SOX4', 'CREG1', 'ADRB1', 'ACADS', 'CAT', 'ELOVL6', 'AKIP1', 'CYBB', 'NFE2L2', 'PRL', 'ADRA2C', 'NOS3', 'XDH',\n",
    " 'CCL2', 'ANKRD23', 'EDN1', 'COL8A1', 'GRK2', 'TNNT2', 'ATP1A3', 'GSK3B', 'PPARGC1A', 'ACLY', 'AVPR2', 'ACE', 'KANK2', 'CLIC2',\n",
    " 'VWF', 'PRKAR2B', 'CDC25B', 'FHL1', 'TBX20', 'CS', 'GPX4', 'SOD2', 'RBP4', 'IL1B', 'OLR1', 'DSTN', 'SIPA1L1', 'MAP2K7', 'KLF9', \n",
    " 'GDF15', 'CXCL3', 'UCN2','NOX1', 'ELK3', 'GATM', 'HIF1A']"
   ]
  },
  {
   "cell_type": "code",
   "execution_count": 4087,
   "id": "377d124d-c39a-4ec9-bed9-2c58c01e9fdf",
   "metadata": {},
   "outputs": [],
   "source": [
    "HF_gene_neg = [\n",
    "    'HABP2', 'CRACR2B', 'RBMY2BP', 'HINT1', 'PSG2', 'GPT', 'ADAMDEC1', 'IGKV1D-39', 'NBAS', 'PRDM12',\n",
    "    'AAGAB', 'POC1B-GALNT4', 'GID4', 'OPA3', 'TEP1', 'UPP1', 'GPHA2', 'HINT3', 'BTF3L4', 'DNAL4',\n",
    "    'NSMCE1', 'EP400P1', 'LRRC8E', 'FAM43A', 'PEX13', 'OR2H1', 'PAGR1', 'CORT', 'NSA2', 'ADAMTS4',\n",
    "    'VWA8', 'FGF23', 'OPN1LW', 'MGST1', 'S1PR2', 'TAS2R13', 'WFDC9', 'SPTLC3', 'MAMDC2', 'PAPOLG',\n",
    "    'SWAP70', 'NR2F1', 'CHTF8', 'KLHL10', 'KCNMB2', 'BCLAF3', 'UNC79', 'DLGAP3', 'RNF115', 'EMSY',\n",
    "    'SLC15A3', 'CNPY1', 'WASH6P', 'CATSPERD', 'ESCO2', 'METTL27', 'ITFG2', 'SETD5', 'ARMC12', 'ST14',\n",
    "    'APCDD1L', 'SCARNA27', 'ANKRD53', 'ZNF350', 'SLC25A31', 'GALNT6', 'WFDC2', 'IGHV4-31', 'SMIM2',\n",
    "    'ETHE1', 'QRICH2', 'PPFIBP2', 'PCF11', 'ALDH5A1', 'SACS', 'HRC', 'C12orf29', 'C9orf153', 'SIKE1',\n",
    "    'COX6A2', 'KLHL21', 'FAM131A', 'TAS2R7', 'HOATZ', 'CRYGS', 'RFLNA', 'GMEB1', 'CYP46A1', 'MIR425',\n",
    "    'SMIM19', 'TPTEP1', 'METTL17', 'MED12L', 'SERF1A', 'AGPAT5', 'TMEM54', 'PATE1', 'KLHL3', 'C3orf35',\n",
    "    'ABTB1', 'RPS6KC1', 'ABCB7', 'C16orf46', 'SPATA13', 'ZNF347', 'STEAP4', 'PCDH9', 'FREM1', 'AHSA1',\n",
    "    'SPATA1', 'SOWAHC', 'IGLV3-19', 'IL17RD', 'GRSF1', 'CABCOCO1', 'ABR', 'ROBO1', 'TLR7', 'SH3BGR',\n",
    "    'CYP27C1', 'KIF3B', 'H2AZ2', 'ESRRB', 'LAD1', 'PSORS1C3', 'ASCL4', 'TMIGD3', 'OSBPL7', 'CLP1',\n",
    "    'HES5', 'SELENOM', 'IGLV3-12', 'VAX2', 'ARMC2', 'FECH', 'GSTT2', 'TCN1', 'PDZD11', 'ALDOB',\n",
    "    'FAM72A', 'GAGE5', 'ENAH', 'IGKV4-1'\n",
    "]"
   ]
  },
  {
   "cell_type": "code",
   "execution_count": 4094,
   "id": "e9a549a0-9d3e-4c95-867a-0f5047ab03fb",
   "metadata": {},
   "outputs": [],
   "source": [
    "list_of_pos_neg = HF_gene_pos+HF_gene_neg"
   ]
  },
  {
   "cell_type": "code",
   "execution_count": 4095,
   "id": "a7c224ca-4dc4-4816-a8d4-b78a013e6351",
   "metadata": {},
   "outputs": [],
   "source": [
    "list_uknown_genes = [item for item in list_all_gene if item not in list_of_pos_neg]"
   ]
  },
  {
   "cell_type": "code",
   "execution_count": 4096,
   "id": "0199e131-d47e-4cc9-9abd-c684e18e4b93",
   "metadata": {},
   "outputs": [
    {
     "data": {
      "text/plain": [
       "18320"
      ]
     },
     "execution_count": 4096,
     "metadata": {},
     "output_type": "execute_result"
    }
   ],
   "source": [
    "len(list_uknown_genes)"
   ]
  },
  {
   "cell_type": "code",
   "execution_count": null,
   "id": "0e03fbd8-3a9c-4311-9d69-07a70f68ad72",
   "metadata": {},
   "outputs": [],
   "source": []
  },
  {
   "cell_type": "code",
   "execution_count": 4098,
   "id": "99366a6b-f8c6-4332-9225-a733d6ab7c11",
   "metadata": {},
   "outputs": [],
   "source": [
    "gene_embeddigns_pos = [np.concatenate((gene_embeddings[key],diseases_embeddings.get('heart failure'))) for key in HF_gene_pos if key in gene_embeddings]\n",
    "gene_embeddigns_neg = [np.concatenate((gene_embeddings[key],diseases_embeddings.get('heart failure'))) for key in HF_gene_neg if key in gene_embeddings]\n",
    "uknown_gene_embeddigns = [np.concatenate((gene_embeddings[key],diseases_embeddings.get('heart failure'))) for key in list_uknown_genes if key in gene_embeddings]\n",
    "HF_embeddings = diseases_embeddings.get('heart failure')"
   ]
  },
  {
   "cell_type": "code",
   "execution_count": 4101,
   "id": "35b3eb0c-ab51-4786-957b-01d53ded30c8",
   "metadata": {},
   "outputs": [
    {
     "data": {
      "text/plain": [
       "array([ 0.06355859,  1.5193712 ,  0.8581839 ,  0.13833424,  1.3158343 ,\n",
       "       -3.0906117 ,  1.5077014 ,  0.0091086 ,  2.8876116 ,  5.1902757 ],\n",
       "      dtype=float32)"
      ]
     },
     "execution_count": 4101,
     "metadata": {},
     "output_type": "execute_result"
    }
   ],
   "source": [
    "diseases_embeddings.get('heart failure')"
   ]
  },
  {
   "cell_type": "code",
   "execution_count": 4103,
   "id": "cb9ae737-f3b8-4b98-9d98-df1d7cef34f4",
   "metadata": {},
   "outputs": [],
   "source": [
    "gene_disease_pos = pd.DataFrame(np.array(gene_embeddigns_pos))\n",
    "gene_disease_pos['Label'] = 1\n",
    "gene_disease_neg = pd.DataFrame(np.array(gene_embeddigns_neg))\n",
    "gene_disease_neg['Label'] = 0"
   ]
  },
  {
   "cell_type": "code",
   "execution_count": 4104,
   "id": "538d93ed-6229-4468-9eca-9c9a16a973de",
   "metadata": {},
   "outputs": [],
   "source": [
    "gene_disease_pos_neg = pd.concat([gene_disease_pos,gene_disease_neg])"
   ]
  },
  {
   "cell_type": "code",
   "execution_count": 4105,
   "id": "0b06009d-3e6b-4c03-a250-74507f957613",
   "metadata": {},
   "outputs": [],
   "source": [
    "uknown_genes_names= [key for key in list_uknown_genes if key in gene_embeddings]\n",
    "uknown_gene_embeddigns_df = pd.DataFrame(np.array(uknown_gene_embeddigns))"
   ]
  },
  {
   "cell_type": "code",
   "execution_count": null,
   "id": "a14bb8f0-9cd5-4dad-bfc7-9e9efe68ac88",
   "metadata": {},
   "outputs": [],
   "source": []
  },
  {
   "cell_type": "code",
   "execution_count": 4106,
   "id": "96b2eb45-7906-4c7d-be4c-0bf730b4c986",
   "metadata": {},
   "outputs": [],
   "source": [
    "import numpy as np\n",
    "from sklearn.model_selection import train_test_split, GridSearchCV\n",
    "from sklearn.svm import SVC\n",
    "from sklearn.metrics import accuracy_score, roc_auc_score\n",
    "import random \n",
    "\n",
    "random.seed(123456)\n",
    "np.random.seed(123456)\n",
    "X = gene_disease_pos_neg.iloc[:,0:-1]\n",
    "y = gene_disease_pos_neg.iloc[:,-1]\n",
    "# Split data into training and test sets\n",
    "X_train, X_test, y_train, y_test = train_test_split(X, y, test_size=0.20, random_state=20)"
   ]
  },
  {
   "cell_type": "code",
   "execution_count": null,
   "id": "38c255d3-67d0-4e3e-964e-e06d5a690659",
   "metadata": {},
   "outputs": [],
   "source": []
  },
  {
   "cell_type": "code",
   "execution_count": 4113,
   "id": "bba8bd31-c521-4c0f-81fb-c69a1c8f2b81",
   "metadata": {},
   "outputs": [
    {
     "name": "stdout",
     "output_type": "stream",
     "text": [
      "Fitting 5 folds for each of 72 candidates, totalling 360 fits\n",
      "Best parameters found:  {'C': 10, 'gamma': 0.01, 'kernel': 'rbf'}\n",
      "Accuracy: 0.7241379310344828\n",
      "ROC AUC: 0.8002378121284186\n"
     ]
    }
   ],
   "source": [
    "from sklearn.svm import SVC\n",
    "from sklearn.metrics import accuracy_score, roc_auc_score\n",
    "# Define the parameter grid\n",
    "param_grid = {\n",
    "    'C': [0.1, 1,5, 10, 50, 100, 200, 300, 500],\n",
    "    'gamma': [1, 0.1, 0.01, 0.001],\n",
    "    'kernel': ['rbf', 'linear']\n",
    "}\n",
    "\n",
    "# Initialize the classifier\n",
    "random.seed(123)\n",
    "svm = SVC(probability=True, random_state=42)\n",
    "\n",
    "# Initialize GridSearchCV\n",
    "random.seed(123)\n",
    "grid_search = GridSearchCV(estimator=svm, param_grid=param_grid, cv=5, n_jobs=-1, scoring='accuracy', verbose=2)\n",
    "\n",
    "# Fit the grid search to the data\n",
    "grid_search.fit(X_train, y_train)\n",
    "\n",
    "# Get the best parameters and best estimator\n",
    "best_params = grid_search.best_params_\n",
    "best_svm = grid_search.best_estimator_\n",
    "\n",
    "print(\"Best parameters found: \", best_params)\n",
    "\n",
    "# Evaluate the best estimator\n",
    "y_pred_svm = best_svm.predict(X_test)\n",
    "y_pred_proba_svm = best_svm.predict_proba(X_test)[:, 1]\n",
    "print(\"Accuracy:\", accuracy_score(y_test, y_pred_svm))\n",
    "print(\"ROC AUC:\", roc_auc_score(y_test, y_pred_proba_svm))\n"
   ]
  },
  {
   "cell_type": "code",
   "execution_count": null,
   "id": "8c9bd63f-df55-4470-9242-bf626a3d0777",
   "metadata": {},
   "outputs": [],
   "source": []
  },
  {
   "cell_type": "code",
   "execution_count": 4114,
   "id": "313482bc-dda0-4341-a390-bb9a985dbcee",
   "metadata": {},
   "outputs": [
    {
     "name": "stdout",
     "output_type": "stream",
     "text": [
      "Accuracy: 0.7241379310344828\n",
      "ROC AUC: 0.8002378121284186\n"
     ]
    }
   ],
   "source": [
    "import numpy as np\n",
    "from sklearn.model_selection import train_test_split\n",
    "from sklearn.svm import SVC\n",
    "from sklearn.metrics import accuracy_score, roc_auc_score, roc_curve\n",
    "\n",
    "random.seed(123)\n",
    "# Define the tuned parameters (example parameters, replace with your actual tuned values)\n",
    "tuned_params = {\n",
    "    'C': 10,        # Regularization parameter\n",
    "    'gamma': 0.01, # Kernel coefficient\n",
    "    'kernel': 'rbf' # Kernel type\n",
    "}\n",
    "\n",
    "# Initialize the classifier with tuned parameters\n",
    "svm = SVC(probability=True, random_state=42, **tuned_params)\n",
    "\n",
    "# Train the classifier\n",
    "svm.fit(X_train, y_train)\n",
    "\n",
    "# Predict the test set labels\n",
    "y_pred_svm = svm.predict(X_test)\n",
    "y_pred_proba_svm = svm.predict_proba(X_test)[:, 1]\n",
    "\n",
    "# Evaluate the classifier\n",
    "print(\"Accuracy:\", accuracy_score(y_test, y_pred_svm))\n",
    "print(\"ROC AUC:\", roc_auc_score(y_test, y_pred_proba_svm))\n"
   ]
  },
  {
   "cell_type": "code",
   "execution_count": 9,
   "id": "c9a3ec9d-e31b-409a-ade1-84462e83d452",
   "metadata": {},
   "outputs": [],
   "source": [
    "svm_my_dict = {}\n",
    "for i in range(0,uknown_gene_embeddigns_df.shape[0]):\n",
    "    y_pred_svm_p = svm.predict(uknown_gene_embeddigns_df.iloc[i:i+1,:])\n",
    "    y_pred_proba_svm_p = svm.predict_proba(uknown_gene_embeddigns_df.iloc[i:i+1,:])[:, 1]\n",
    "    print(uknown_genes_names[i],y_pred_svm_p[0],y_pred_proba_svm_p[0])\n",
    "    if y_pred_svm_p[0]>0:\n",
    "        svm_my_dict[uknown_genes_names[i]] =y_pred_proba_svm_p[0]\n",
    "\n",
    "pos_prd_prob_svm = dict(sorted(svm_my_dict.items(), key=lambda item: item[1],reverse=True))"
   ]
  }
 ],
 "metadata": {
  "kernelspec": {
   "display_name": "Python 3 (ipykernel)",
   "language": "python",
   "name": "python3"
  },
  "language_info": {
   "codemirror_mode": {
    "name": "ipython",
    "version": 3
   },
   "file_extension": ".py",
   "mimetype": "text/x-python",
   "name": "python",
   "nbconvert_exporter": "python",
   "pygments_lexer": "ipython3",
   "version": "3.11.5"
  }
 },
 "nbformat": 4,
 "nbformat_minor": 5
}
