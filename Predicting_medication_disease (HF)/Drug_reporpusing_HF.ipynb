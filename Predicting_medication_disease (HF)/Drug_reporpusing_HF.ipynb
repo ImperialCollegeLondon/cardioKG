{
 "cells": [
  {
   "cell_type": "code",
   "execution_count": 2,
   "id": "2648dee5-917a-409e-a8a9-c6f2bcd3ac40",
   "metadata": {},
   "outputs": [],
   "source": [
    "import torch\n",
    "import torch.nn as nn\n",
    "import torch.optim as optim\n",
    "from torch_geometric.data import Data, DataLoader\n",
    "import numpy as np\n",
    "from graphdatascience import GraphDataScience\n",
    "from py2neo import Graph\n",
    "from neo4j import GraphDatabase\n",
    "import networkx as nx\n",
    "import matplotlib.pyplot as plt\n",
    "import torch.nn.functional as F\n",
    "import pandas as pd\n",
    "import neo4jupyter\n",
    "from torch_geometric.nn import GCNConv\n",
    "from torch_geometric.utils import negative_sampling, remove_self_loops, add_self_loops, to_dense_adj, dense_to_sparse\n",
    "from torch_geometric.nn import VGAE,GAE\n",
    "from sklearn.metrics import precision_score, recall_score, f1_score, roc_auc_score, average_precision_score\n",
    "from torch_geometric.utils import to_dense_adj\n",
    "#neo4jupyter.init_notebook_mode()\n",
    "import tqdm as notebook_tqdm"
   ]
  },
  {
   "cell_type": "code",
   "execution_count": 3,
   "id": "b04bf76c-d102-4bd2-bae7-01e3382dd601",
   "metadata": {},
   "outputs": [],
   "source": [
    "import pickle\n",
    "# Load the list of arrays from the .pkl file\n",
    "with open('med_node_embeddings_50d.pkl', 'rb') as pkl_file:\n",
    "    extracted_data = pickle.load(pkl_file)"
   ]
  },
  {
   "cell_type": "code",
   "execution_count": 4,
   "id": "e777dc6c-09a4-4145-85ab-ea64f827cf82",
   "metadata": {},
   "outputs": [],
   "source": [
    "node_embeddings = extracted_data"
   ]
  },
  {
   "cell_type": "code",
   "execution_count": null,
   "id": "77c3c9b6-87d6-4f61-a7be-e0e7c6389c86",
   "metadata": {},
   "outputs": [],
   "source": [
    "diseases=pd.read_csv('C:\\\\Users\\\\krjoob\\\\Desktop\\\\Knowledge graph\\\\UKBB\\\\UKB_CMR_med\\\\processing aftre extracting the data\\\\All_diseases\\\\nodes and edges\\\\Disease.csv')\n",
    "Med=pd.read_csv('C:\\\\Users\\\\krjoob\\\\Desktop\\\\Knowledge graph\\\\UKBB\\\\UKB_CMR_med\\\\drug_disease.csv')"
   ]
  },
  {
   "cell_type": "code",
   "execution_count": null,
   "id": "f1645c06-3fce-425b-9361-b5501a4f9222",
   "metadata": {},
   "outputs": [],
   "source": [
    "diseases_nodes=list(diseases.fname)\n",
    "medication_nodes=list(medication.fname)"
   ]
  },
  {
   "cell_type": "code",
   "execution_count": null,
   "id": "9fcbb32c-1312-4a18-a0f8-e9c080f55067",
   "metadata": {},
   "outputs": [],
   "source": []
  },
  {
   "cell_type": "code",
   "execution_count": null,
   "id": "62bfdb0c-ee78-4cec-b23a-bf193b879711",
   "metadata": {},
   "outputs": [],
   "source": [
    "diseases_embeddings = {key:node_embeddings[key] for key in diseases_nodes if key in node_embeddings}\n",
    "medication_embeddings = {key:node_embeddings[key] for key in medication_nodes if key in node_embeddings}"
   ]
  },
  {
   "cell_type": "code",
   "execution_count": 8,
   "id": "ae179be8-ebdf-497d-abc8-97db2783793a",
   "metadata": {},
   "outputs": [],
   "source": [
    "HF_ind = ['Chlorthalidone','Mannitol','Acetazolamide','Etacrynic acid','Torasemide','Piretanide','Furosemide','Spironolactone','Triamterene',\n",
    "          'Bumetanide','Indapamide','Amiloride','Xipamide','Hydroflumethiazide','Methyclothiazide','Fosinopril','Ramipril','Benazepril',\n",
    "          'Quinapril','Perindopril','Lisinopril','Carvedilol','Bisoprolol','Captopril','Metoprolol','Diltiazem','Atenolol','Candesartan cilexetil',\n",
    "          'Telmisartan','Irbesartan','Valsartan','Eprosartan','Losartan','Moexipril','Ibopamine','Enalaprilat','Enalapril','Ubidecarenone',\n",
    "          'Azosemide','Levosimendan','Acetyldigitoxin']"
   ]
  },
  {
   "cell_type": "code",
   "execution_count": 9,
   "id": "2044e9d6-32b2-46ff-ad08-0d46d2120122",
   "metadata": {},
   "outputs": [],
   "source": [
    "HF_cont = ['Monopotassium phosphate','Polyethylene glycol 300','Magnesium trisilicate','nitrogen','Chlorphentermine','Methenamine',\n",
    "           'Bisacodyl','Mitomycin','Phenylacetic acid','Dexrabeprazole','Oxandrolone','Fenoprofen','Phenyl salicylate','Anagrelide',\n",
    "           'Bendroflumethiazide','Hyoscyamine','Tesamorelin','Carteolol','Diazoxide','Sodium chloride','Galactose','Ioxaglic acid',\n",
    "           'Iron sucrose','Cefpodoxime','Telavancin','Gadodiamide','Ertapenem','Meropenem','Iodixanol','Sorbitol','Ioversol',\n",
    "           'Iopromide','Daptomycin','Iopamidol','Tigecycline','Mannitol','Rimantadine','Gadobenic acid','Linezolid','Vidarabine',\n",
    "           'Triamcinolone']"
   ]
  },
  {
   "cell_type": "code",
   "execution_count": 12,
   "id": "9820c0da-3cc0-4bd7-b464-b2f26c2c49c1",
   "metadata": {},
   "outputs": [],
   "source": [
    "list_all_med = list(set(Med.y_name))"
   ]
  },
  {
   "cell_type": "code",
   "execution_count": null,
   "id": "8d146cea",
   "metadata": {},
   "outputs": [],
   "source": [
    "list_of_pos_neg = HF_ind+HF_cont"
   ]
  },
  {
   "cell_type": "code",
   "execution_count": null,
   "id": "f718ddd3",
   "metadata": {},
   "outputs": [],
   "source": [
    "list_uknown_med = [item for item in list_all_med if item not in list_of_pos_neg]"
   ]
  },
  {
   "cell_type": "code",
   "execution_count": null,
   "id": "bd20c441-5eab-42ae-8116-46b492a3f803",
   "metadata": {},
   "outputs": [],
   "source": [
    "med_embeddigns_pos = [np.concatenate((medication_embeddings[key],diseases_embeddings.get('heart failure'))) for key in HF_ind if key in medication_embeddings]\n",
    "med_embeddigns_neg = [np.concatenate((medication_embeddings[key],diseases_embeddings.get('heart failure'))) for key in HF_cont if key in medication_embeddings]\n",
    "uknown_medication_embeddings = [np.concatenate((medication_embeddings[key],diseases_embeddings.get('heart failure'))) for key in list_uknown_med if key in medication_embeddings]\n",
    "HF_embeddings = diseases_embeddings.get('heart failure')"
   ]
  },
  {
   "cell_type": "code",
   "execution_count": 18,
   "id": "df3678ca-bab1-4513-aafe-c277d46c0962",
   "metadata": {},
   "outputs": [],
   "source": [
    "med_disease_pos = pd.DataFrame(np.array(med_embeddigns_pos))\n",
    "med_disease_pos['Label'] = 1\n",
    "med_disease_neg = pd.DataFrame(np.array(med_embeddigns_neg))\n",
    "med_disease_neg['Label'] = 0"
   ]
  },
  {
   "cell_type": "code",
   "execution_count": null,
   "id": "7b41de8b-2940-42bf-8463-2430a34842f4",
   "metadata": {},
   "outputs": [],
   "source": []
  },
  {
   "cell_type": "code",
   "execution_count": 19,
   "id": "16d508f4-4b9e-4c2a-91d3-de490009c818",
   "metadata": {},
   "outputs": [],
   "source": [
    "med_disease_pos_neg = pd.concat([med_disease_pos,med_disease_neg])"
   ]
  },
  {
   "cell_type": "code",
   "execution_count": null,
   "id": "d39c7756-3343-44a9-a57a-b40a549acde9",
   "metadata": {},
   "outputs": [],
   "source": [
    "uknown_med_names= [key for key in list_uknown_med if key in medication_embeddings]\n",
    "uknown_med_embeddigns_df = pd.DataFrame(np.array(uknown_medication_embeddings))"
   ]
  },
  {
   "cell_type": "code",
   "execution_count": 22,
   "id": "76fb6d9f-35b0-4281-885b-ce5e32ef3e28",
   "metadata": {},
   "outputs": [],
   "source": [
    "import numpy as np\n",
    "from sklearn.model_selection import train_test_split, GridSearchCV\n",
    "from sklearn.svm import SVC\n",
    "from sklearn.metrics import accuracy_score, roc_auc_score\n",
    "import random \n",
    "\n",
    "random.seed(123456)\n",
    "np.random.seed(123456)\n",
    "X = med_disease_pos_neg.iloc[:,0:-1]\n",
    "y = med_disease_pos_neg.iloc[:,-1]\n",
    "# Split data into training and test sets\n",
    "X_train, X_test, y_train, y_test = train_test_split(X, y, test_size=0.30, random_state=20)"
   ]
  },
  {
   "cell_type": "code",
   "execution_count": null,
   "id": "221a842c-c422-49ac-8023-8984c777698f",
   "metadata": {},
   "outputs": [],
   "source": []
  },
  {
   "cell_type": "code",
   "execution_count": 28,
   "id": "e8bcecba-b408-43f1-a82c-ccef74bbc881",
   "metadata": {},
   "outputs": [
    {
     "name": "stdout",
     "output_type": "stream",
     "text": [
      "Fitting 5 folds for each of 72 candidates, totalling 360 fits\n",
      "Best parameters found:  {'C': 50, 'gamma': 1, 'kernel': 'rbf'}\n",
      "Accuracy: 0.8\n",
      "ROC AUC: 0.7142857142857143\n"
     ]
    }
   ],
   "source": [
    "from sklearn.svm import SVC\n",
    "from sklearn.metrics import accuracy_score, roc_auc_score\n",
    "# Define the parameter grid\n",
    "param_grid = {\n",
    "    'C': [0.1, 1, 5, 10, 50, 100, 200, 300, 500],\n",
    "    'gamma': [1, 0.1, 0.01, 0.001],\n",
    "    'kernel': ['rbf', 'linear']\n",
    "}\n",
    "\n",
    "# Initialize the classifier\n",
    "random.seed(123)\n",
    "svm = SVC(probability=True, random_state=42)\n",
    "\n",
    "# Initialize GridSearchCV\n",
    "random.seed(123)\n",
    "grid_search = GridSearchCV(estimator=svm, param_grid=param_grid, cv=5, n_jobs=-1, scoring='accuracy', verbose=2)\n",
    "\n",
    "# Fit the grid search to the data\n",
    "grid_search.fit(X_train, y_train)\n",
    "\n",
    "# Get the best parameters and best estimator\n",
    "best_params = grid_search.best_params_\n",
    "best_svm = grid_search.best_estimator_\n",
    "\n",
    "print(\"Best parameters found: \", best_params)\n",
    "\n",
    "# Evaluate the best estimator\n",
    "y_pred_svm = best_svm.predict(X_test)\n",
    "y_pred_proba_svm = best_svm.predict_proba(X_test)[:, 1]\n",
    "print(\"Accuracy:\", accuracy_score(y_test, y_pred_svm))\n",
    "print(\"ROC AUC:\", roc_auc_score(y_test, y_pred_proba_svm))\n"
   ]
  },
  {
   "cell_type": "code",
   "execution_count": null,
   "id": "c78f10ea-84c9-43c2-bfac-b12698b6d8c0",
   "metadata": {},
   "outputs": [],
   "source": []
  },
  {
   "cell_type": "code",
   "execution_count": 30,
   "id": "dc4ab91e-f866-46ab-bdfc-a07094434a1b",
   "metadata": {},
   "outputs": [
    {
     "name": "stdout",
     "output_type": "stream",
     "text": [
      "Accuracy: 0.8\n",
      "ROC AUC: 0.7142857142857143\n"
     ]
    }
   ],
   "source": [
    "import numpy as np\n",
    "from sklearn.model_selection import train_test_split\n",
    "from sklearn.svm import SVC\n",
    "from sklearn.metrics import accuracy_score, roc_auc_score, roc_curve\n",
    "\n",
    "random.seed(123)\n",
    "# Define the tuned parameters (example parameters, replace with your actual tuned values)\n",
    "tuned_params = {\n",
    "    'C': 50,        # Regularization parameter\n",
    "    'gamma': 1, # Kernel coefficient\n",
    "    'kernel': 'rbf' # Kernel type\n",
    "}\n",
    "\n",
    "# Initialize the classifier with tuned parameters\n",
    "svm = SVC(probability=True, random_state=42, **tuned_params)\n",
    "\n",
    "# Train the classifier\n",
    "svm.fit(X_train, y_train)\n",
    "\n",
    "# Predict the test set labels\n",
    "y_pred_svm = svm.predict(X_test)\n",
    "y_pred_proba_svm = svm.predict_proba(X_test)[:, 1]\n",
    "\n",
    "# Evaluate the classifier\n",
    "print(\"Accuracy:\", accuracy_score(y_test, y_pred_svm))\n",
    "print(\"ROC AUC:\", roc_auc_score(y_test, y_pred_proba_svm))\n"
   ]
  },
  {
   "cell_type": "code",
   "execution_count": null,
   "id": "483c134d",
   "metadata": {},
   "outputs": [],
   "source": [
    "svm_my_dict = {}\n",
    "for i in range(0,uknown_med_embeddigns_df.shape[0]):\n",
    "    y_pred_svm_p = svm.predict(uknown_med_embeddigns_df.iloc[i:i+1,:])\n",
    "    y_pred_proba_svm_p = svm.predict_proba(uknown_med_embeddigns_df.iloc[i:i+1,:])[:, 1]\n",
    "    print(uknown_med_names[i],y_pred_svm_p[0],y_pred_proba_svm_p[0])\n",
    "    if y_pred_svm_p[0]>0:\n",
    "        svm_my_dict[uknown_med_names[i]] =y_pred_proba_svm_p[0]\n",
    "\n",
    "pos_prd_prob_svm = dict(sorted(svm_my_dict.items(), key=lambda item: item[1],reverse=True))"
   ]
  }
 ],
 "metadata": {
  "kernelspec": {
   "display_name": "Python 3 (ipykernel)",
   "language": "python",
   "name": "python3"
  },
  "language_info": {
   "codemirror_mode": {
    "name": "ipython",
    "version": 3
   },
   "file_extension": ".py",
   "mimetype": "text/x-python",
   "name": "python",
   "nbconvert_exporter": "python",
   "pygments_lexer": "ipython3",
   "version": "3.8.19"
  }
 },
 "nbformat": 4,
 "nbformat_minor": 5
}
