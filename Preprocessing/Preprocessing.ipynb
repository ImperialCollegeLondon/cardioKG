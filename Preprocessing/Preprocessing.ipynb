{
 "cells": [
  {
   "cell_type": "code",
   "execution_count": 11,
   "id": "1c6abbf6-f462-458a-8302-e1382efab6d6",
   "metadata": {},
   "outputs": [],
   "source": [
    "#!pip install nltk"
   ]
  },
  {
   "cell_type": "code",
   "execution_count": 3,
   "id": "0d68793a-1980-4a42-b3c1-5e47388fa9b2",
   "metadata": {},
   "outputs": [],
   "source": [
    "import nltk\n",
    "import os\n",
    "#run it once\n",
    "# Define local nltk_data directory inside current folder\n",
    "local_nltk_data = os.path.join(os.getcwd(), 'nltk_data')\n",
    "# Download punkt fresh here\n",
    "nltk.download('punkt_tab', download_dir=local_nltk_data)\n",
    "nltk.data.path.append(local_nltk_data)"
   ]
  },
  {
   "cell_type": "code",
   "execution_count": 9,
   "id": "2010b4bb-8b8b-4f1e-be7a-495544ee9af3",
   "metadata": {},
   "outputs": [
    {
     "name": "stdout",
     "output_type": "stream",
     "text": [
      "                                           diagnosis          HF_status\n",
      "0               Patient has congestive heart failure      heart failure\n",
      "1                                       heart failure      heart failure\n",
      "2         High output was noted in heart performance  not heart failure\n",
      "3                              Nothing unusual found  not heart failure\n",
      "4  x linked cardiomegaly disability congestive he...      heart failure\n",
      "5                           Low-output heart failure      heart failure\n"
     ]
    }
   ],
   "source": [
    "import pandas as pd\n",
    "from rapidfuzz import fuzz\n",
    "from nltk.tokenize import word_tokenize\n",
    "\n",
    "# List of heart failure terms\n",
    "HF_cat = [\n",
    "    'congestive heart failure',\n",
    "    'heart failure',\n",
    "    'diastolic heart failure',\n",
    "    'high output heart failure',\n",
    "    'High-output congestive heart failure',\n",
    "    'Low-output congestive heart failure',\n",
    "    'X-linked intellectual disability-cardiomegaly-congestive heart failure syndrome'\n",
    "]\n",
    "HF_cat = [term.lower() for term in HF_cat]\n",
    "\n",
    "# Sample dataframe, the sample data frame shows the diagnoses for different patients \n",
     "# and the NLP function labels them which one is heart failure (HF) and which one is not HF\n",
    "df = pd.DataFrame({\n",
    "    'diagnosis': [\n",
    "        'Patient has congestive heart failure',\n",
    "        'heart failure',\n",
    "        'High output was noted in heart performance',\n",
    "        'Nothing unusual found',\n",
    "        'x linked cardiomegaly disability congestive heart failure syndrome',\n",
    "        'Low-output heart failure'\n",
    "    ]\n",
    "})\n",
    "\n",
    "# Tokenize the HF terms\n",
    "HF_tokens = [word_tokenize(term) for term in HF_cat]\n",
    "\n",
    "# Join token sets back to string (optional: you could also compare sets)\n",
    "def fuzzy_token_match(text, threshold=85):\n",
    "    tokens = word_tokenize(text.lower())\n",
    "    joined_text = ' '.join(tokens)\n",
    "    for hf_term_tokens in HF_tokens:\n",
    "        joined_hf = ' '.join(hf_term_tokens)\n",
    "        score = fuzz.partial_ratio(joined_hf, joined_text)\n",
    "        if score >= threshold:\n",
    "            return 'heart failure'\n",
    "    return 'not heart failure'\n",
    "\n",
    "df['HF_status'] = df['diagnosis'].apply(fuzzy_token_match)\n",
    "print(df)\n"
   ]
  },
  {
   "cell_type": "code",
   "execution_count": null,
   "id": "95c8ad8e-8e16-47bd-8eda-ec02197eece6",
   "metadata": {},
   "outputs": [],
   "source": []
  }
 ],
 "metadata": {
  "kernelspec": {
   "display_name": "Python 3 (ipykernel)",
   "language": "python",
   "name": "python3"
  },
  "language_info": {
   "codemirror_mode": {
    "name": "ipython",
    "version": 3
   },
   "file_extension": ".py",
   "mimetype": "text/x-python",
   "name": "python",
   "nbconvert_exporter": "python",
   "pygments_lexer": "ipython3",
   "version": "3.11.5"
  }
 },
 "nbformat": 4,
 "nbformat_minor": 5
}
